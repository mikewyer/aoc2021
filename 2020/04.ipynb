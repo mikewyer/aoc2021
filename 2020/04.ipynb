{
 "cells": [
  {
   "cell_type": "code",
   "execution_count": 1,
   "metadata": {},
   "outputs": [
    {
     "data": {
      "text/plain": [
       "989"
      ]
     },
     "execution_count": 1,
     "metadata": {},
     "output_type": "execute_result"
    }
   ],
   "source": [
    "test_data = \"\"\"ecl:gry pid:860033327 eyr:2020 hcl:#fffffd\n",
    "byr:1937 iyr:2017 cid:147 hgt:183cm\n",
    "\n",
    "iyr:2013 ecl:amb cid:350 eyr:2023 pid:028048884\n",
    "hcl:#cfa07d byr:1929\n",
    "\n",
    "hcl:#ae17e1 iyr:2013\n",
    "eyr:2024\n",
    "ecl:brn pid:760753108 byr:1931\n",
    "hgt:179cm\n",
    "\n",
    "hcl:#cfa07d eyr:2025 pid:166559648\n",
    "iyr:2011 ecl:brn hgt:59in\"\"\".splitlines()\n",
    "data = open(\"04.data\").readlines()\n",
    "len(data)"
   ]
  },
  {
   "cell_type": "code",
   "execution_count": 36,
   "metadata": {},
   "outputs": [
    {
     "data": {
      "text/plain": [
       "2"
      ]
     },
     "execution_count": 36,
     "metadata": {},
     "output_type": "execute_result"
    }
   ],
   "source": [
    "fields = ['byr', 'iyr', 'eyr', 'hgt', 'hcl', 'ecl', 'pid']\n",
    "\n",
    "def each_pass(input_data):\n",
    "    pass_dict = {}\n",
    "    for row in input_data:\n",
    "        if len(row.strip()) == 0:\n",
    "            yield pass_dict.copy()\n",
    "            pass_dict = {}\n",
    "            continue\n",
    "        for field in row.strip().split(' '):\n",
    "            key, val = field.split(':')\n",
    "            pass_dict[key] = val\n",
    "    yield pass_dict\n",
    "\n",
    "class LoopExit(Exception):\n",
    "    \"\"\"Inner loop exiter.\"\"\"\n",
    "\n",
    "def count_valid(input_data):\n",
    "    valid = 0\n",
    "    for pass_dict in each_pass(input_data):\n",
    "        try:\n",
    "            for field in fields:\n",
    "                if field not in pass_dict:\n",
    "                    #print(f\"{field} not in {pass_dict}\")\n",
    "                    raise LoopExit()\n",
    "            valid += 1\n",
    "        except LoopExit:\n",
    "            continue\n",
    "    return valid\n",
    "\n",
    "count_valid(test_data)"
   ]
  },
  {
   "cell_type": "code",
   "execution_count": 31,
   "metadata": {},
   "outputs": [
    {
     "data": {
      "text/plain": [
       "230"
      ]
     },
     "execution_count": 31,
     "metadata": {},
     "output_type": "execute_result"
    }
   ],
   "source": [
    "count_valid(data)"
   ]
  },
  {
   "cell_type": "code",
   "execution_count": 37,
   "metadata": {},
   "outputs": [
    {
     "name": "stdout",
     "output_type": "stream",
     "text": [
      "eyr invalid '2034'\n",
      "pid #baec97\n",
      "iyr invalid '2023'\n",
      "ecl #473aaf\n",
      "hcl z\n",
      "byr invalid '2022'\n",
      "byr invalid '2005'\n",
      "byr invalid '2005'\n",
      "byr invalid '2023'\n",
      "FieldMissing 'ecl'\n",
      "byr invalid '2030'\n",
      "byr invalid '2009'\n",
      "byr invalid '2027'\n",
      "byr invalid '2025'\n",
      "byr invalid '2003'\n",
      "FieldMissing 'eyr'\n",
      "eyr invalid '2032'\n",
      "eyr invalid '1924'\n",
      "byr invalid '2014'\n",
      "iyr invalid '1978'\n",
      "eyr invalid '1977'\n",
      "byr invalid '2030'\n",
      "FieldMissing 'ecl'\n",
      "iyr invalid '1932'\n",
      "FieldMissing 'byr'\n",
      "hgt 77\n",
      "byr invalid '2017'\n",
      "iyr invalid '2022'\n",
      "byr invalid '2016'\n",
      "byr invalid '2020'\n",
      "FieldMissing 'byr'\n",
      "byr invalid '2029'\n",
      "FieldMissing 'byr'\n",
      "byr invalid '2029'\n",
      "ecl #0e337e\n",
      "FieldMissing 'byr'\n",
      "byr invalid '2027'\n",
      "eyr invalid '1978'\n",
      "pid 64469711\n",
      "byr invalid '2028'\n",
      "byr invalid '2026'\n",
      "byr invalid '2007'\n",
      "byr invalid '2024'\n",
      "hgt 162in: 162 in\n",
      "byr invalid '2025'\n",
      "byr invalid '2015'\n",
      "iyr invalid '2023'\n",
      "byr invalid '2018'\n",
      "pid 168cm\n",
      "FieldMissing 'iyr'\n",
      "eyr invalid '1927'\n",
      "FieldMissing 'eyr'\n",
      "byr invalid '2011'\n",
      "FieldMissing 'pid'\n",
      "pid 6000619833\n",
      "iyr invalid '1953'\n",
      "ecl lzr\n",
      "FieldMissing 'byr'\n",
      "FieldMissing 'pid'\n",
      "FieldMissing 'byr'\n",
      "byr invalid '2027'\n",
      "byr invalid '2022'\n",
      "byr invalid '2004'\n",
      "byr invalid '2023'\n",
      "FieldMissing 'hgt'\n",
      "FieldMissing 'iyr'\n",
      "FieldMissing 'byr'\n",
      "FieldMissing 'iyr'\n",
      "FieldMissing 'iyr'\n",
      "hcl 22b2d7\n",
      "FieldMissing 'pid'\n",
      "byr invalid '2029'\n",
      "byr invalid '2027'\n",
      "iyr invalid '1978'\n",
      "hcl z\n",
      "iyr invalid '1983'\n",
      "FieldMissing 'byr'\n",
      "iyr invalid '2024'\n",
      "FieldMissing 'hcl'\n",
      "FieldMissing 'hcl'\n",
      "hgt 72cm: 72 cm\n",
      "FieldMissing 'hgt'\n",
      "iyr invalid '1957'\n",
      "iyr invalid '1944'\n",
      "FieldMissing 'byr'\n",
      "hcl z\n",
      "byr invalid '2013'\n",
      "byr invalid '2030'\n",
      "byr invalid '2016'\n",
      "byr invalid '2013'\n",
      "iyr invalid '1936'\n",
      "byr invalid '2007'\n",
      "byr invalid '2013'\n",
      "FieldMissing 'iyr'\n",
      "eyr invalid '1955'\n",
      "ecl #2df4b6\n",
      "hcl 299464\n",
      "iyr invalid '2028'\n",
      "byr invalid '2011'\n"
     ]
    },
    {
     "data": {
      "text/plain": [
       "156"
      ]
     },
     "execution_count": 37,
     "metadata": {},
     "output_type": "execute_result"
    }
   ],
   "source": [
    "import re\n",
    "\n",
    "class InvalidPass(Exception):\n",
    "    \"\"\"catch bad passports\"\"\"\n",
    "\n",
    "def is_valid(pass_dict):\n",
    "    for field in fields:\n",
    "        if field not in pass_dict:\n",
    "            raise InvalidPass(f\"FieldMissing '{field}'\")\n",
    "    if len(pass_dict['byr']) != 4 or int(pass_dict['byr']) < 1920 or int(pass_dict['byr']) > 2002:\n",
    "        raise InvalidPass(f\"byr invalid '{pass_dict['byr']}'\")\n",
    "    if len(pass_dict['iyr']) != 4 or int(pass_dict['iyr']) < 2010 or int(pass_dict['iyr']) > 2020:\n",
    "        raise InvalidPass(f\"iyr invalid '{pass_dict['iyr']}'\")\n",
    "    if len(pass_dict['eyr']) != 4 or int(pass_dict['eyr']) < 2020 or int(pass_dict['eyr']) > 2030:\n",
    "        raise InvalidPass(f\"eyr invalid '{pass_dict['eyr']}'\")\n",
    "    if matched := re.match(r'(\\d+)(cm|in)', pass_dict['hgt']):\n",
    "        num = int(matched[1])\n",
    "        if matched[2] == \"cm\":\n",
    "            if num < 150 or num > 193:\n",
    "                raise InvalidPass(f\"hgt {pass_dict['hgt']}: {num} {matched[2]}\")\n",
    "        elif num < 59 or num > 76:\n",
    "                raise InvalidPass(f\"hgt {pass_dict['hgt']}: {num} {matched[2]}\")\n",
    "    else:\n",
    "        raise InvalidPass(f\"hgt {pass_dict['hgt']}\")\n",
    "    if not re.match(r'#[0-9a-f]{6}$', pass_dict['hcl']):\n",
    "        raise InvalidPass(f\"hcl {pass_dict['hcl']}\")\n",
    "    if not re.match(r'(amb|blu|brn|gry|grn|hzl|oth)$', pass_dict['ecl']):\n",
    "        raise InvalidPass(f\"ecl {pass_dict['ecl']}\")\n",
    "    if not re.match(r'\\d{9}$', pass_dict['pid']):\n",
    "        raise InvalidPass(f\"pid {pass_dict['pid']}\")\n",
    "    return True\n",
    "\n",
    "test_invalid = \"\"\"eyr:1972 cid:100\n",
    "hcl:#18171d ecl:amb hgt:170 pid:186cm iyr:2018 byr:1926\n",
    "\n",
    "iyr:2019\n",
    "hcl:#602927 eyr:1967 hgt:170cm\n",
    "ecl:grn pid:012533040 byr:1946\n",
    "\n",
    "hcl:dab227 iyr:2012\n",
    "ecl:brn hgt:182cm pid:021572410 eyr:2020 byr:1992 cid:277\n",
    "\n",
    "hgt:59cm ecl:zzz\n",
    "eyr:2038 hcl:74454a iyr:2023\n",
    "pid:3556412378 byr:2007\n",
    "\"\"\".splitlines()\n",
    "\n",
    "test_valid = \"\"\"pid:087499704 hgt:74in ecl:grn iyr:2012 eyr:2030 byr:1980\n",
    "hcl:#623a2f\n",
    "\n",
    "eyr:2029 ecl:blu cid:129 byr:1989\n",
    "iyr:2014 pid:896056539 hcl:#a97842 hgt:165cm\n",
    "\n",
    "hcl:#888785\n",
    "hgt:164cm byr:2001 iyr:2015 cid:88\n",
    "pid:545766238 ecl:hzl\n",
    "eyr:2022\n",
    "\n",
    "iyr:2010 hgt:158cm hcl:#b6652a ecl:blu byr:1944 eyr:2021 pid:093154719\"\"\".splitlines()\n",
    "\n",
    "\n",
    "def count_valid2(input_data):\n",
    "    valid = 0\n",
    "    for pass_dict in each_pass(input_data):\n",
    "        try:\n",
    "            if is_valid(pass_dict):\n",
    "                valid += 1\n",
    "        except InvalidPass as err:\n",
    "            print(err)\n",
    "        # else:\n",
    "        #     print(pass_dict)\n",
    "    return valid\n",
    "\n",
    "count_valid2(data)"
   ]
  },
  {
   "cell_type": "code",
   "execution_count": null,
   "metadata": {},
   "outputs": [],
   "source": []
  }
 ],
 "metadata": {
  "interpreter": {
   "hash": "de35e0e5c56d1dcbf13a95b6516e699d18e602de3c76c9464a697983e4e8e565"
  },
  "kernelspec": {
   "display_name": "Python 3.8.10 64-bit ('3.8.10': pyenv)",
   "language": "python",
   "name": "python3"
  },
  "language_info": {
   "codemirror_mode": {
    "name": "ipython",
    "version": 3
   },
   "file_extension": ".py",
   "mimetype": "text/x-python",
   "name": "python",
   "nbconvert_exporter": "python",
   "pygments_lexer": "ipython3",
   "version": "3.8.10"
  },
  "orig_nbformat": 4
 },
 "nbformat": 4,
 "nbformat_minor": 2
}
