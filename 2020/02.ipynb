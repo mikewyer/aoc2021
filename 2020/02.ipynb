{
 "cells": [
  {
   "cell_type": "code",
   "execution_count": 9,
   "id": "095aaca8",
   "metadata": {},
   "outputs": [
    {
     "data": {
      "text/plain": [
       "'2-5 l: fllxf\\n'"
      ]
     },
     "execution_count": 9,
     "metadata": {},
     "output_type": "execute_result"
    }
   ],
   "source": [
    "import re\n",
    "data = open(\"02.data\").readlines()"
   ]
  },
  {
   "cell_type": "code",
   "execution_count": 11,
   "id": "d39b7ff6",
   "metadata": {},
   "outputs": [
    {
     "name": "stdout",
     "output_type": "stream",
     "text": [
      "660\n"
     ]
    }
   ],
   "source": [
    "# min-max char: pass_str\n",
    "# ok = number of instances of char is between min and max.\n",
    "ok = 0\n",
    "for row in data:\n",
    "    if match := re.match(r'(\\d+)-(\\d+) (\\w): (.*)$', row):\n",
    "        min_count = int(match[1])\n",
    "        max_count = int(match[2])\n",
    "        char = match[3]\n",
    "        pass_str = match[4]\n",
    "        if min_count <= pass_str.count(char) <= max_count:\n",
    "            ok += 1\n",
    "    else:\n",
    "        raise Exception(row)\n",
    "print(ok)"
   ]
  },
  {
   "cell_type": "code",
   "execution_count": 14,
   "id": "3cb7c91d",
   "metadata": {},
   "outputs": [
    {
     "name": "stdout",
     "output_type": "stream",
     "text": [
      "530\n"
     ]
    }
   ],
   "source": [
    "# min-max char: pass_str\n",
    "# ok = char is either at position min or position max, not both.\n",
    "ok = 0\n",
    "for row in data:\n",
    "    if match := re.match(r'(\\d+)-(\\d+) (\\w): (.*)$', row):\n",
    "        min_pos = int(match[1])\n",
    "        max_pos = int(match[2])\n",
    "        char = match[3]\n",
    "        pass_str = match[4]\n",
    "        min_char = pass_str[min_pos - 1]\n",
    "        max_char = pass_str[max_pos - 1]\n",
    "        if (min_char == char or max_char == char) and min_char != max_char:\n",
    "            ok += 1\n",
    "print(ok)"
   ]
  },
  {
   "cell_type": "code",
   "execution_count": null,
   "id": "e0633885",
   "metadata": {},
   "outputs": [],
   "source": []
  }
 ],
 "metadata": {
  "kernelspec": {
   "display_name": "Python 3 (ipykernel)",
   "language": "python",
   "name": "python3"
  },
  "language_info": {
   "codemirror_mode": {
    "name": "ipython",
    "version": 3
   },
   "file_extension": ".py",
   "mimetype": "text/x-python",
   "name": "python",
   "nbconvert_exporter": "python",
   "pygments_lexer": "ipython3",
   "version": "3.8.10"
  }
 },
 "nbformat": 4,
 "nbformat_minor": 5
}
