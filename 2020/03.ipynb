{
 "cells": [
  {
   "cell_type": "code",
   "execution_count": 19,
   "id": "ae4917b0",
   "metadata": {},
   "outputs": [
    {
     "name": "stdout",
     "output_type": "stream",
     "text": [
      ".#.....#..#..#....##.........#.\n"
     ]
    }
   ],
   "source": [
    "grid = [i.strip() for i in open(\"03.data\").readlines()]\n",
    "print(grid[0])"
   ]
  },
  {
   "cell_type": "code",
   "execution_count": 16,
   "id": "e8df6d6e",
   "metadata": {},
   "outputs": [
    {
     "name": "stdout",
     "output_type": "stream",
     "text": [
      ".#.....#..#..#....##.........#.\n",
      "294\n"
     ]
    }
   ],
   "source": [
    "def coord(row, col):\n",
    "    \"\"\"What's at the given coordinate in the data?\"\"\"\n",
    "    cell = grid[row][col % (len(grid[0]))]\n",
    "    return cell\n",
    "#\n",
    "col = 0\n",
    "count = 0\n",
    "for row in range(0, len(grid)):\n",
    "    if coord(row, col) == '#':\n",
    "        count += 1\n",
    "    col += 3\n",
    "print(count)"
   ]
  },
  {
   "cell_type": "code",
   "execution_count": 17,
   "id": "ad66d4e5",
   "metadata": {},
   "outputs": [
    {
     "name": "stdout",
     "output_type": "stream",
     "text": [
      "5774564250\n"
     ]
    }
   ],
   "source": [
    "def count_trees(col_inc, row_inc):\n",
    "    col = 0\n",
    "    count = 0\n",
    "    for row in range(0, len(grid), row_inc):\n",
    "        if coord(row, col) == '#':\n",
    "            count += 1\n",
    "        col += col_inc\n",
    "    return count\n",
    "\n",
    "print(count_trees(1,1) * count_trees(3, 1) * count_trees(5,1) * count_trees(7,1) * count_trees(1,2))"
   ]
  },
  {
   "cell_type": "code",
   "execution_count": null,
   "id": "59b622b3",
   "metadata": {},
   "outputs": [],
   "source": []
  }
 ],
 "metadata": {
  "kernelspec": {
   "display_name": "Python 3 (ipykernel)",
   "language": "python",
   "name": "python3"
  },
  "language_info": {
   "codemirror_mode": {
    "name": "ipython",
    "version": 3
   },
   "file_extension": ".py",
   "mimetype": "text/x-python",
   "name": "python",
   "nbconvert_exporter": "python",
   "pygments_lexer": "ipython3",
   "version": "3.8.10"
  }
 },
 "nbformat": 4,
 "nbformat_minor": 5
}
