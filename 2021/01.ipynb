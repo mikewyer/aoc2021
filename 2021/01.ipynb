{
 "cells": [
  {
   "cell_type": "code",
   "execution_count": 3,
   "id": "29c47a31",
   "metadata": {},
   "outputs": [
    {
     "data": {
      "text/plain": [
       "2000"
      ]
     },
     "execution_count": 3,
     "metadata": {},
     "output_type": "execute_result"
    }
   ],
   "source": [
    "depths = [int(i) for i in open(\"01.data\").readlines()]\n",
    "len(depths)"
   ]
  },
  {
   "cell_type": "code",
   "execution_count": 4,
   "id": "5459fb43",
   "metadata": {},
   "outputs": [
    {
     "data": {
      "text/plain": [
       "1195"
      ]
     },
     "execution_count": 4,
     "metadata": {},
     "output_type": "execute_result"
    }
   ],
   "source": [
    "last_depth = depths[0]\n",
    "increases = 0\n",
    "for i in depths[1:]:\n",
    "    if i > last_depth:\n",
    "        increases += 1\n",
    "    last_depth = i\n",
    "increases"
   ]
  },
  {
   "cell_type": "code",
   "execution_count": 5,
   "id": "a93af36f",
   "metadata": {},
   "outputs": [],
   "source": [
    "def window(count=3):\n",
    "    start = 0\n",
    "    for i in range(0, len(depths) - 1):\n",
    "        yield depths[start: start + count]\n",
    "        start += 1"
   ]
  },
  {
   "cell_type": "code",
   "execution_count": 6,
   "id": "3fdebf5f",
   "metadata": {},
   "outputs": [
    {
     "data": {
      "text/plain": [
       "[184, 205, 211]"
      ]
     },
     "execution_count": 6,
     "metadata": {},
     "output_type": "execute_result"
    }
   ],
   "source": [
    "next(window())"
   ]
  },
  {
   "cell_type": "code",
   "execution_count": 7,
   "id": "259d0e6a",
   "metadata": {},
   "outputs": [
    {
     "data": {
      "text/plain": [
       "[205, 211, 213]"
      ]
     },
     "execution_count": 7,
     "metadata": {},
     "output_type": "execute_result"
    }
   ],
   "source": [
    "depths[0:3]\n",
    "depths[1:4]"
   ]
  },
  {
   "cell_type": "code",
   "execution_count": 9,
   "id": "df132c32",
   "metadata": {},
   "outputs": [
    {
     "data": {
      "text/plain": [
       "1824"
      ]
     },
     "execution_count": 9,
     "metadata": {},
     "output_type": "execute_result"
    }
   ],
   "source": [
    "last_sum = None\n",
    "window_increase = 0\n",
    "for i in window(100):\n",
    "    total = sum(i)\n",
    "    if last_sum and total > last_sum:\n",
    "        window_increase += 1\n",
    "    last_sum = total\n",
    "window_increase"
   ]
  },
  {
   "cell_type": "code",
   "execution_count": 10,
   "id": "8262c981",
   "metadata": {},
   "outputs": [
    {
     "data": {
      "text/plain": [
       "2000"
      ]
     },
     "execution_count": 10,
     "metadata": {},
     "output_type": "execute_result"
    }
   ],
   "source": [
    "len(depths)"
   ]
  },
  {
   "cell_type": "code",
   "execution_count": 13,
   "id": "15aeb086",
   "metadata": {},
   "outputs": [
    {
     "data": {
      "text/plain": [
       "[]"
      ]
     },
     "execution_count": 13,
     "metadata": {},
     "output_type": "execute_result"
    }
   ],
   "source": [
    "depths[2000:2004]"
   ]
  },
  {
   "cell_type": "code",
   "execution_count": 12,
   "id": "a23bf6ea",
   "metadata": {},
   "outputs": [
    {
     "data": {
      "text/plain": [
       "3288"
      ]
     },
     "execution_count": 12,
     "metadata": {},
     "output_type": "execute_result"
    }
   ],
   "source": [
    "depths[-1]"
   ]
  },
  {
   "cell_type": "code",
   "execution_count": null,
   "id": "4668b30c",
   "metadata": {},
   "outputs": [],
   "source": []
  }
 ],
 "metadata": {
  "kernelspec": {
   "display_name": "Python 3 (ipykernel)",
   "language": "python",
   "name": "python3"
  },
  "language_info": {
   "codemirror_mode": {
    "name": "ipython",
    "version": 3
   },
   "file_extension": ".py",
   "mimetype": "text/x-python",
   "name": "python",
   "nbconvert_exporter": "python",
   "pygments_lexer": "ipython3",
   "version": "3.8.10"
  }
 },
 "nbformat": 4,
 "nbformat_minor": 5
}
