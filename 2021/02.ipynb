{
 "cells": [
  {
   "cell_type": "code",
   "execution_count": 7,
   "id": "0806d59c",
   "metadata": {},
   "outputs": [
    {
     "data": {
      "text/plain": [
       "1000"
      ]
     },
     "execution_count": 7,
     "metadata": {},
     "output_type": "execute_result"
    }
   ],
   "source": [
    "test_data = \"\"\"forward 5\n",
    "down 5\n",
    "forward 8\n",
    "up 3\n",
    "down 8\n",
    "forward 2\"\"\".splitlines()\n",
    "\n",
    "data = open(\"02.data\").readlines()\n",
    "len(data)"
   ]
  },
  {
   "cell_type": "code",
   "execution_count": 9,
   "id": "02999449",
   "metadata": {},
   "outputs": [
    {
     "data": {
      "text/plain": [
       "(15, 10)"
      ]
     },
     "execution_count": 9,
     "metadata": {},
     "output_type": "execute_result"
    }
   ],
   "source": [
    "def go_sub(input):\n",
    "    pos = 0\n",
    "    depth = 0\n",
    "\n",
    "    def down(x):\n",
    "        nonlocal depth\n",
    "        depth += x\n",
    "    def up(x):\n",
    "        nonlocal depth\n",
    "        depth -= x\n",
    "    def forward(x):\n",
    "        nonlocal pos\n",
    "        pos += x\n",
    "    move = {'down': down, 'up': up, 'forward': forward}\n",
    "    for command in input:\n",
    "        cmd, num = command.split(' ')\n",
    "        move[cmd](int(num))\n",
    "    return pos, depth\n",
    "go_sub(test_data)"
   ]
  },
  {
   "cell_type": "code",
   "execution_count": 10,
   "id": "3105bc46",
   "metadata": {},
   "outputs": [
    {
     "data": {
      "text/plain": [
       "(1991, 911)"
      ]
     },
     "execution_count": 10,
     "metadata": {},
     "output_type": "execute_result"
    }
   ],
   "source": [
    "go_sub(data)"
   ]
  },
  {
   "cell_type": "code",
   "execution_count": 11,
   "id": "d554f43e",
   "metadata": {},
   "outputs": [
    {
     "data": {
      "text/plain": [
       "1813801"
      ]
     },
     "execution_count": 11,
     "metadata": {},
     "output_type": "execute_result"
    }
   ],
   "source": [
    "1991 * 911"
   ]
  },
  {
   "cell_type": "code",
   "execution_count": 12,
   "id": "49fce96d",
   "metadata": {},
   "outputs": [
    {
     "data": {
      "text/plain": [
       "(15, 60)"
      ]
     },
     "execution_count": 12,
     "metadata": {},
     "output_type": "execute_result"
    }
   ],
   "source": [
    "def go_sub2(input):\n",
    "    pos = 0\n",
    "    depth = 0\n",
    "    aim = 0\n",
    "\n",
    "    def down(x):\n",
    "        nonlocal aim\n",
    "        aim += x\n",
    "    def up(x):\n",
    "        nonlocal aim\n",
    "        aim -= x\n",
    "    def forward(x):\n",
    "        nonlocal pos, aim, depth\n",
    "        pos += x\n",
    "        depth += aim * x\n",
    "    move = {'down': down, 'up': up, 'forward': forward}\n",
    "    for command in input:\n",
    "        cmd, num = command.split(' ')\n",
    "        move[cmd](int(num))\n",
    "    return pos, depth\n",
    "go_sub2(test_data)"
   ]
  },
  {
   "cell_type": "code",
   "execution_count": 13,
   "id": "4f249661",
   "metadata": {},
   "outputs": [
    {
     "data": {
      "text/plain": [
       "(1991, 984716)"
      ]
     },
     "execution_count": 13,
     "metadata": {},
     "output_type": "execute_result"
    }
   ],
   "source": [
    "go_sub2(data)"
   ]
  },
  {
   "cell_type": "code",
   "execution_count": 14,
   "id": "77800a59",
   "metadata": {},
   "outputs": [
    {
     "data": {
      "text/plain": [
       "1960569556"
      ]
     },
     "execution_count": 14,
     "metadata": {},
     "output_type": "execute_result"
    }
   ],
   "source": [
    "1991 * 984716"
   ]
  },
  {
   "cell_type": "code",
   "execution_count": null,
   "id": "36bedee3",
   "metadata": {},
   "outputs": [],
   "source": []
  }
 ],
 "metadata": {
  "kernelspec": {
   "display_name": "Python 3 (ipykernel)",
   "language": "python",
   "name": "python3"
  },
  "language_info": {
   "codemirror_mode": {
    "name": "ipython",
    "version": 3
   },
   "file_extension": ".py",
   "mimetype": "text/x-python",
   "name": "python",
   "nbconvert_exporter": "python",
   "pygments_lexer": "ipython3",
   "version": "3.8.10"
  }
 },
 "nbformat": 4,
 "nbformat_minor": 5
}
